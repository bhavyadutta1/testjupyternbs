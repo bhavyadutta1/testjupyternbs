{
 "cells": [
  {
   "cell_type": "code",
   "execution_count": 3,
   "id": "72885223-9104-4e5e-aef8-9aae75bdbd28",
   "metadata": {
    "tags": []
   },
   "outputs": [
    {
     "data": {
      "application/vnd.jupyter.widget-view+json": {
       "model_id": "351a3bd474ba4d21b6efdf3ba6d30f66",
       "version_major": 2,
       "version_minor": 0
      },
      "text/plain": [
       "Button(description='Plot Gesamtzellzahl vs Time', layout=Layout(border_bottom='1px solid black', border_left='…"
      ]
     },
     "metadata": {},
     "output_type": "display_data"
    },
    {
     "data": {
      "application/vnd.jupyter.widget-view+json": {
       "model_id": "6580ad4ed5624a72845766008e0d654a",
       "version_major": 2,
       "version_minor": 0
      },
      "text/plain": [
       "Output()"
      ]
     },
     "metadata": {},
     "output_type": "display_data"
    }
   ],
   "source": [
    "import matplotlib.pyplot as plt\n",
    "import pandas as pd\n",
    "from ipywidgets import Button, Output, Layout, ButtonStyle\n",
    "from IPython.display import display\n",
    "\n",
    "def plot_graph():\n",
    "    df = pd.read_csv('resources/lab_data.csv')\n",
    "    plt.figure(figsize=(10, 6))\n",
    "    plt.plot(df['Time (mins)'], pd.to_numeric(df['Gesamt-Zellzahl'], errors='coerce'), \n",
    "             marker='o', color='#A541FD')  # Set graph color here\n",
    "    plt.title('Gesamtzellzahl vs Time')\n",
    "    plt.xlabel('Time (mins)')\n",
    "    plt.ylabel('Gesamtzellzahl (10^6)')\n",
    "    plt.grid(True)\n",
    "    plt.show()\n",
    "\n",
    "button_style = ButtonStyle(button_color='#A541FD',  # Updated button color\n",
    "                           font_weight='bold',\n",
    "                           text_color='white')\n",
    "\n",
    "button_layout = Layout(width='220px',    # Wider button\n",
    "                       height='40px',    # Taller button\n",
    "                       border='1px solid black',  # Black border for definition\n",
    "                       margin='10px',    # Space around the button\n",
    "                       padding='5px')  \n",
    "\n",
    "button = Button(description=\"Plot Gesamtzellzahl vs Time\",\n",
    "                layout=button_layout,\n",
    "                style=button_style)\n",
    "\n",
    "output = Output()\n",
    "\n",
    "def on_button_clicked(b):\n",
    "    with output:\n",
    "        output.clear_output()\n",
    "        plot_graph()\n",
    "\n",
    "button.on_click(on_button_clicked)\n",
    "display(button, output)\n"
   ]
  },
  {
   "cell_type": "code",
   "execution_count": null,
   "id": "a4725b5a-f999-4002-9520-ce69ea1dc7a5",
   "metadata": {},
   "outputs": [],
   "source": []
  }
 ],
 "metadata": {
  "kernelspec": {
   "display_name": "Python 3 (ipykernel)",
   "language": "python",
   "name": "python3"
  },
  "language_info": {
   "codemirror_mode": {
    "name": "ipython",
    "version": 3
   },
   "file_extension": ".py",
   "mimetype": "text/x-python",
   "name": "python",
   "nbconvert_exporter": "python",
   "pygments_lexer": "ipython3",
   "version": "3.11.4"
  },
  "widgets": {
   "application/vnd.jupyter.widget-state+json": {
    "state": {
     "11c294ec629745f6b80fd3057e3032fd": {
      "model_module": "@jupyter-widgets/base",
      "model_module_version": "2.0.0",
      "model_name": "LayoutModel",
      "state": {
       "_model_module": "@jupyter-widgets/base",
       "_model_module_version": "2.0.0",
       "_model_name": "LayoutModel",
       "_view_count": null,
       "_view_module": "@jupyter-widgets/base",
       "_view_module_version": "2.0.0",
       "_view_name": "LayoutView",
       "align_content": null,
       "align_items": null,
       "align_self": null,
       "border_bottom": null,
       "border_left": null,
       "border_right": null,
       "border_top": null,
       "bottom": null,
       "display": null,
       "flex": null,
       "flex_flow": null,
       "grid_area": null,
       "grid_auto_columns": null,
       "grid_auto_flow": null,
       "grid_auto_rows": null,
       "grid_column": null,
       "grid_gap": null,
       "grid_row": null,
       "grid_template_areas": null,
       "grid_template_columns": null,
       "grid_template_rows": null,
       "height": null,
       "justify_content": null,
       "justify_items": null,
       "left": null,
       "margin": null,
       "max_height": null,
       "max_width": null,
       "min_height": null,
       "min_width": null,
       "object_fit": null,
       "object_position": null,
       "order": null,
       "overflow": null,
       "padding": null,
       "right": null,
       "top": null,
       "visibility": null,
       "width": null
      }
     },
     "32f120f99f6d4b1a98a51566bce1affe": {
      "model_module": "@jupyter-widgets/base",
      "model_module_version": "2.0.0",
      "model_name": "LayoutModel",
      "state": {
       "_model_module": "@jupyter-widgets/base",
       "_model_module_version": "2.0.0",
       "_model_name": "LayoutModel",
       "_view_count": null,
       "_view_module": "@jupyter-widgets/base",
       "_view_module_version": "2.0.0",
       "_view_name": "LayoutView",
       "align_content": null,
       "align_items": null,
       "align_self": null,
       "border_bottom": null,
       "border_left": null,
       "border_right": null,
       "border_top": null,
       "bottom": null,
       "display": null,
       "flex": null,
       "flex_flow": null,
       "grid_area": null,
       "grid_auto_columns": null,
       "grid_auto_flow": null,
       "grid_auto_rows": null,
       "grid_column": null,
       "grid_gap": null,
       "grid_row": null,
       "grid_template_areas": null,
       "grid_template_columns": null,
       "grid_template_rows": null,
       "height": null,
       "justify_content": null,
       "justify_items": null,
       "left": null,
       "margin": null,
       "max_height": null,
       "max_width": null,
       "min_height": null,
       "min_width": null,
       "object_fit": null,
       "object_position": null,
       "order": null,
       "overflow": null,
       "padding": null,
       "right": null,
       "top": null,
       "visibility": null,
       "width": null
      }
     },
     "5ce273bc331d471a8ae92e2728543ebc": {
      "model_module": "@jupyter-widgets/controls",
      "model_module_version": "2.0.0",
      "model_name": "ButtonModel",
      "state": {
       "_dom_classes": [],
       "_model_module": "@jupyter-widgets/controls",
       "_model_module_version": "2.0.0",
       "_model_name": "ButtonModel",
       "_view_count": null,
       "_view_module": "@jupyter-widgets/controls",
       "_view_module_version": "2.0.0",
       "_view_name": "ButtonView",
       "button_style": "",
       "description": "Plot Graph",
       "disabled": false,
       "icon": "",
       "layout": "IPY_MODEL_11c294ec629745f6b80fd3057e3032fd",
       "style": "IPY_MODEL_c5f12f2272594473b1cd4b690fc7ff3b",
       "tabbable": null,
       "tooltip": null
      }
     },
     "9133b1ae835645649d57b9655e1549f7": {
      "model_module": "@jupyter-widgets/output",
      "model_module_version": "1.0.0",
      "model_name": "OutputModel",
      "state": {
       "_dom_classes": [],
       "_model_module": "@jupyter-widgets/output",
       "_model_module_version": "1.0.0",
       "_model_name": "OutputModel",
       "_view_count": null,
       "_view_module": "@jupyter-widgets/output",
       "_view_module_version": "1.0.0",
       "_view_name": "OutputView",
       "layout": "IPY_MODEL_32f120f99f6d4b1a98a51566bce1affe",
       "msg_id": "",
       "outputs": [],
       "tabbable": null,
       "tooltip": null
      }
     },
     "c5f12f2272594473b1cd4b690fc7ff3b": {
      "model_module": "@jupyter-widgets/controls",
      "model_module_version": "2.0.0",
      "model_name": "ButtonStyleModel",
      "state": {
       "_model_module": "@jupyter-widgets/controls",
       "_model_module_version": "2.0.0",
       "_model_name": "ButtonStyleModel",
       "_view_count": null,
       "_view_module": "@jupyter-widgets/base",
       "_view_module_version": "2.0.0",
       "_view_name": "StyleView",
       "button_color": null,
       "font_family": null,
       "font_size": null,
       "font_style": null,
       "font_variant": null,
       "font_weight": null,
       "text_color": null,
       "text_decoration": null
      }
     }
    },
    "version_major": 2,
    "version_minor": 0
   }
  }
 },
 "nbformat": 4,
 "nbformat_minor": 5
}
