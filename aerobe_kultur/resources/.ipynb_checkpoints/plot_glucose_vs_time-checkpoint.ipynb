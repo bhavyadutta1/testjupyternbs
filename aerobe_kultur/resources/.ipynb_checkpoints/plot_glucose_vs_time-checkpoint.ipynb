{
 "cells": [
  {
   "cell_type": "code",
   "execution_count": null,
   "id": "54fbcac3-88cf-453d-8337-b1f81bc1cbfe",
   "metadata": {},
   "outputs": [],
   "source": [
    "import matplotlib.pyplot as plt\n",
    "import pandas as pd  # Ensure pandas is imported\n",
    "from ipywidgets import Button, Output, Layout, ButtonStyle\n",
    "from IPython.display import display\n",
    "\n",
    "def plot_graph2():\n",
    "    df = pd.read_csv('resources/lab_data.csv')\n",
    "    plt.figure(figsize=(10, 6))\n",
    "    plt.plot(df['Time (mins)'], pd.to_numeric(df['Glucose'], errors='coerce'), marker='o', color='#6DB370')  # Set graph color here)\n",
    "    plt.title('Glucose vs Time')\n",
    "    plt.xlabel('Time (mins)')\n",
    "    plt.ylabel('Glucose')\n",
    "    plt.grid(True)\n",
    "    plt.show()\n",
    "\n",
    "button_style = ButtonStyle(button_color='#6DB370',  # Attractive green shade\n",
    "                           font_weight='bold',\n",
    "                           text_color='white')  # White text for contrast\n",
    "\n",
    "button_layout = Layout(width='220px',    # Wider button\n",
    "                       height='40px',    # Taller button\n",
    "                       border='1px solid black',  # Black border for definition\n",
    "                       margin='10px',    # Space around the button\n",
    "                       padding='5px')  \n",
    "    \n",
    "button = Button(description=\"Plot Glucose vs Time\", layout=button_layout,\n",
    "                style=button_style)\n",
    "\n",
    "output2 = Output()\n",
    "\n",
    "def on_button_clicked(b):\n",
    "    with output2:\n",
    "        output2.clear_output()\n",
    "        plot_graph2()  \n",
    "\n",
    "button.on_click(on_button_clicked)\n",
    "display(button, output2)\n"
   ]
  }
 ],
 "metadata": {
  "kernelspec": {
   "display_name": "Python 3 (ipykernel)",
   "language": "python",
   "name": "python3"
  },
  "language_info": {
   "codemirror_mode": {
    "name": "ipython",
    "version": 3
   },
   "file_extension": ".py",
   "mimetype": "text/x-python",
   "name": "python",
   "nbconvert_exporter": "python",
   "pygments_lexer": "ipython3",
   "version": "3.11.4"
  }
 },
 "nbformat": 4,
 "nbformat_minor": 5
}
