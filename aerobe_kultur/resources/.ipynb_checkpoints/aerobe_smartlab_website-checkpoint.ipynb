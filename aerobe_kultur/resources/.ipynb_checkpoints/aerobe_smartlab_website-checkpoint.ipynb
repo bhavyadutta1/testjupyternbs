{
 "cells": [
  {
   "cell_type": "code",
   "execution_count": 7,
   "id": "3d2cf786-c63f-4694-bf85-42de997e08be",
   "metadata": {
    "tags": []
   },
   "outputs": [
    {
     "data": {
      "text/html": [
       "\n",
       "<a href='https://bhavyadutta1.github.io/aerobe_kultur_smartlab_website/index.html' target='_blank' style='text-decoration: none;'>\n",
       "    <button style='\n",
       "        background-color: white; /* White background */\n",
       "        color: #333333; /* Dark text for contrast */\n",
       "        padding: 10px 24px;\n",
       "        text-align: center;\n",
       "        text-decoration: none;\n",
       "        display: inline-block;\n",
       "        font-size: 16px;\n",
       "        font-weight: bold;\n",
       "        margin: 4px 2px;\n",
       "        cursor: pointer;\n",
       "        border: 5px solid #4568DC; /* Border color */\n",
       "        border-radius: 25px;\n",
       "        width: 250px; /* Set the width here */\n",
       "        box-shadow: 0 4px 8px 0 rgba(0,0,0,0.2);\n",
       "        transition: 0.3s;\n",
       "        '>\n",
       "        \n",
       "        Go to Methods Website  \n",
       "        <img src='resources/r/r1.gif' style='vertical-align: middle; margin-right: 8px;' width='20' height='20'>\n",
       "\n",
       "    </button>\n",
       "</a>\n"
      ],
      "text/plain": [
       "<IPython.core.display.HTML object>"
      ]
     },
     "metadata": {},
     "output_type": "display_data"
    }
   ],
   "source": [
    "from IPython.display import display, HTML\n",
    "\n",
    "# HTML and CSS for the button with SVG icon\n",
    "button_html = \"\"\"\n",
    "<a href='https://bhavyadutta1.github.io/aerobe_kultur_smartlab_website/index.html' target='_blank' style='text-decoration: none;'>\n",
    "    <button style='\n",
    "        background-color: white; /* White background */\n",
    "        color: #333333; /* Dark text for contrast */\n",
    "        padding: 10px 24px;\n",
    "        text-align: center;\n",
    "        text-decoration: none;\n",
    "        display: inline-block;\n",
    "        font-size: 16px;\n",
    "        font-weight: bold;\n",
    "        margin: 4px 2px;\n",
    "        cursor: pointer;\n",
    "        border: 5px solid #4568DC; /* Border color */\n",
    "        border-radius: 25px;\n",
    "        width: 300px; /* Set the width here */\n",
    "        box-shadow: 0 4px 8px 0 rgba(0,0,0,0.2);\n",
    "        transition: 0.3s;\n",
    "        '>\n",
    "        \n",
    "        Go to Methods Website  \n",
    "        <img src='resources/r/r1.gif' style='vertical-align: middle; margin-right: 8px;' width='20' height='20'>\n",
    "\n",
    "    </button>\n",
    "</a>\n",
    "\"\"\"\n",
    "\n",
    "# Display the button\n",
    "display(HTML(button_html))\n"
   ]
  },
  {
   "cell_type": "code",
   "execution_count": null,
   "id": "bdd522e3-c022-4dfd-a2d6-673b29b9afbb",
   "metadata": {},
   "outputs": [],
   "source": []
  }
 ],
 "metadata": {
  "kernelspec": {
   "display_name": "Python 3 (ipykernel)",
   "language": "python",
   "name": "python3"
  },
  "language_info": {
   "codemirror_mode": {
    "name": "ipython",
    "version": 3
   },
   "file_extension": ".py",
   "mimetype": "text/x-python",
   "name": "python",
   "nbconvert_exporter": "python",
   "pygments_lexer": "ipython3",
   "version": "3.11.4"
  }
 },
 "nbformat": 4,
 "nbformat_minor": 5
}
