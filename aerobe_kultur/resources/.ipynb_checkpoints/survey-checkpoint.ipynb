{
 "cells": [
  {
   "cell_type": "code",
   "execution_count": 2,
   "id": "e4d8f1c8-ebcf-4b39-be2b-a0c8e005b303",
   "metadata": {
    "tags": []
   },
   "outputs": [
    {
     "data": {
      "text/html": [
       "\n",
       "<a href='https://evaluation.fh-aachen.de/evasys/online.php?pswd=WJMAN' target='_blank'>\n",
       "    <button style='\n",
       "        color: white;\n",
       "        padding: 10px 24px;\n",
       "        text-align: center;\n",
       "        text-decoration: none;\n",
       "        display: inline-block;\n",
       "        font-size: 16px;\n",
       "        margin: 4px 2px;\n",
       "        cursor: pointer;\n",
       "        border: none;\n",
       "        border-radius: 25px;\n",
       "        width: 220px; /* Set the width here */\n",
       "        box-shadow: 0 4px 8px 0 rgba(0,0,0,0.2);\n",
       "        transition: 0.3s;\n",
       "        background: linear-gradient(to right, #B06AB3, #4568DC);\n",
       "        '>\n",
       "    Take the Survey!\n",
       "    </button>\n",
       "</a>\n"
      ],
      "text/plain": [
       "<IPython.core.display.HTML object>"
      ]
     },
     "metadata": {},
     "output_type": "display_data"
    }
   ],
   "source": [
    "from IPython.display import display, HTML\n",
    "\n",
    "# HTML and CSS for the button\n",
    "button_html = \"\"\"\n",
    "<a href='https://evaluation.fh-aachen.de/evasys/online.php?pswd=WJMAN' target='_blank'>\n",
    "    <button style='\n",
    "        color: white;\n",
    "        padding: 10px 24px;\n",
    "        text-align: center;\n",
    "        text-decoration: none;\n",
    "        display: inline-block;\n",
    "        font-size: 16px;\n",
    "        margin: 4px 2px;\n",
    "        cursor: pointer;\n",
    "        border: none;\n",
    "        border-radius: 25px;\n",
    "        width: 180px; /* Set the width here */\n",
    "        box-shadow: 0 4px 8px 0 rgba(0,0,0,0.2);\n",
    "        transition: 0.3s;\n",
    "        background: linear-gradient(to right, #B06AB3, #4568DC);\n",
    "        '>\n",
    "    Take the Survey!\n",
    "    </button>\n",
    "</a>\n",
    "\"\"\"\n",
    "\n",
    "# Display the button\n",
    "display(HTML(button_html))\n"
   ]
  },
  {
   "cell_type": "code",
   "execution_count": null,
   "id": "45f2d5ea-ffe5-432c-a6e3-a39acb47760e",
   "metadata": {},
   "outputs": [],
   "source": []
  }
 ],
 "metadata": {
  "kernelspec": {
   "display_name": "Python 3 (ipykernel)",
   "language": "python",
   "name": "python3"
  },
  "language_info": {
   "codemirror_mode": {
    "name": "ipython",
    "version": 3
   },
   "file_extension": ".py",
   "mimetype": "text/x-python",
   "name": "python",
   "nbconvert_exporter": "python",
   "pygments_lexer": "ipython3",
   "version": "3.11.4"
  }
 },
 "nbformat": 4,
 "nbformat_minor": 5
}
