{
 "cells": [
  {
   "cell_type": "code",
   "execution_count": 4,
   "id": "d0c27295-ff70-4fbc-913c-72d92f0a667b",
   "metadata": {
    "tags": []
   },
   "outputs": [
    {
     "data": {
      "application/vnd.jupyter.widget-view+json": {
       "model_id": "7f59759490f04ef88213278e50c20f25",
       "version_major": 2,
       "version_minor": 0
      },
      "text/plain": [
       "Button(description='Plot Optical Density vs Time', layout=Layout(border_bottom='1px solid black', border_left=…"
      ]
     },
     "metadata": {},
     "output_type": "display_data"
    },
    {
     "data": {
      "application/vnd.jupyter.widget-view+json": {
       "model_id": "dea8b705b67b4b888a3edd6c3e929be7",
       "version_major": 2,
       "version_minor": 0
      },
      "text/plain": [
       "Output()"
      ]
     },
     "metadata": {},
     "output_type": "display_data"
    }
   ],
   "source": [
    "import matplotlib.pyplot as plt\n",
    "import pandas as pd  # Ensure pandas is imported\n",
    "from ipywidgets import Button, Output, Layout, ButtonStyle\n",
    "from IPython.display import display\n",
    "\n",
    "def plot_graph1():\n",
    "    df = pd.read_csv('resources/lab_data.csv')\n",
    "    plt.figure(figsize=(10, 6))\n",
    "    plt.plot(df['Time (mins)'], pd.to_numeric(df['OD_600'], errors='coerce'), marker='o', color='#1CB0F6')  # Set graph color here)\n",
    "    plt.title('Optical Density_600 vs Time')\n",
    "    plt.xlabel('Time (mins)')\n",
    "    plt.ylabel('Optical Density_600')\n",
    "    plt.grid(True)\n",
    "    plt.show()\n",
    "\n",
    "button_style = ButtonStyle(button_color='#1CB0F6',  # Attractive green shade\n",
    "                           font_weight='bold',\n",
    "                           text_color='white')  # White text for contrast\n",
    "\n",
    "button_layout = Layout(width='220px',    # Wider button\n",
    "                       height='40px',    # Taller button\n",
    "                       border='1px solid black',  # Black border for definition\n",
    "                       margin='10px',    # Space around the button\n",
    "                       padding='5px')  \n",
    "    \n",
    "button = Button(description=\"Plot Optical Density_600 vs Time\", layout=button_layout,\n",
    "                style=button_style)\n",
    "\n",
    "output1 = Output()\n",
    "\n",
    "def on_button_clicked(b):\n",
    "    with output1:\n",
    "        output1.clear_output()\n",
    "        plot_graph1()  \n",
    "\n",
    "button.on_click(on_button_clicked)\n",
    "display(button, output1)\n"
   ]
  },
  {
   "cell_type": "code",
   "execution_count": null,
   "id": "9ee2de9b-72fe-4b0b-a407-725d206025d8",
   "metadata": {},
   "outputs": [],
   "source": []
  }
 ],
 "metadata": {
  "kernelspec": {
   "display_name": "Python 3 (ipykernel)",
   "language": "python",
   "name": "python3"
  },
  "language_info": {
   "codemirror_mode": {
    "name": "ipython",
    "version": 3
   },
   "file_extension": ".py",
   "mimetype": "text/x-python",
   "name": "python",
   "nbconvert_exporter": "python",
   "pygments_lexer": "ipython3",
   "version": "3.11.4"
  }
 },
 "nbformat": 4,
 "nbformat_minor": 5
}
