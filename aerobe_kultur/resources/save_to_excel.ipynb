{
 "cells": [
  {
   "cell_type": "code",
   "execution_count": 9,
   "id": "fd7ba327-3e9c-450f-9547-d9a4964921ad",
   "metadata": {
    "tags": []
   },
   "outputs": [
    {
     "data": {
      "application/vnd.jupyter.widget-view+json": {
       "model_id": "fd9c875bfd0d4daf9c5894900e5acd18",
       "version_major": 2,
       "version_minor": 0
      },
      "text/plain": [
       "Button(description='Save to Excel', layout=Layout(border_bottom='1px solid #1F6F44', border_left='1px solid #1…"
      ]
     },
     "metadata": {},
     "output_type": "display_data"
    }
   ],
   "source": [
    "import pandas as pd\n",
    "from ipywidgets import Button, Layout, ButtonStyle\n",
    "from IPython.display import display, Javascript\n",
    "\n",
    "def convert_csv_to_excel():\n",
    "    # Read CSV file\n",
    "    df = pd.read_csv('resources/lab_data.csv')\n",
    "\n",
    "    # Convert to Excel and overwrite existing file\n",
    "    excel_file_path = 'aerobe_lab_data.xlsx'\n",
    "    df.to_excel(excel_file_path, index=False)\n",
    "\n",
    "    print(\"CSV file has been converted to Excel.\")\n",
    "\n",
    "    # Optionally, prompt download in Jupyter Notebook\n",
    "    display(Javascript(f\"\"\"\n",
    "        var link = document.createElement('a');\n",
    "        link.href = 'files/{excel_file_path}';\n",
    "        link.download = '{excel_file_path}';\n",
    "        document.body.appendChild(link);\n",
    "        link.click();\n",
    "        document.body.removeChild(link);\n",
    "    \"\"\"))\n",
    "\n",
    "# Custom Button Style to match your other buttons\n",
    "button_style = ButtonStyle(button_color='#1F6F44',  # Assuming this is your preferred button color\n",
    "                           font_weight='bold',\n",
    "                           text_color='white')\n",
    "\n",
    "# Custom Button Layout to match your other buttons\n",
    "button_layout = Layout(width='226px',    # Assuming this is your preferred button width\n",
    "                       height='40px',    # Assuming this is your preferred button height\n",
    "                       border='1px solid #1F6F44',  # Assuming this is your preferred border style\n",
    "                       margin='5px',\n",
    "                       padding='5px',\n",
    "                       border_radius='20px')  # Assuming this is your preferred border radius\n",
    "\n",
    "convert_button = Button(description=\"Save to Excel\",\n",
    "                        layout=button_layout,\n",
    "                        style=button_style)\n",
    "\n",
    "convert_button.on_click(lambda b: convert_csv_to_excel())\n",
    "\n",
    "# Display the button\n",
    "display(convert_button)\n"
   ]
  },
  {
   "cell_type": "code",
   "execution_count": null,
   "id": "c2243b52-df8a-4fba-abfa-44a2664cd700",
   "metadata": {},
   "outputs": [],
   "source": []
  },
  {
   "cell_type": "code",
   "execution_count": null,
   "id": "17325b72-dad3-48f6-9db0-35c7e253efc6",
   "metadata": {},
   "outputs": [],
   "source": []
  }
 ],
 "metadata": {
  "kernelspec": {
   "display_name": "Python 3 (ipykernel)",
   "language": "python",
   "name": "python3"
  },
  "language_info": {
   "codemirror_mode": {
    "name": "ipython",
    "version": 3
   },
   "file_extension": ".py",
   "mimetype": "text/x-python",
   "name": "python",
   "nbconvert_exporter": "python",
   "pygments_lexer": "ipython3",
   "version": "3.11.4"
  }
 },
 "nbformat": 4,
 "nbformat_minor": 5
}
