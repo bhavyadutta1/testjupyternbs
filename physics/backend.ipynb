{
 "cells": [
  {
   "cell_type": "code",
   "execution_count": null,
   "id": "080e1203-32da-4921-8877-d91fe9ca9cfb",
   "metadata": {},
   "outputs": [],
   "source": [
    "import matplotlib.pyplot as plt\n",
    "\n",
    "# Execute the plotting commands passed from the front-end notebook\n",
    "exec(plot_commands)\n",
    "\n",
    "plt.legend()\n",
    "plt.title(\"The position-time plots for different weights on the cart\")\n",
    "plt.xlabel(\"Time (s)\")\n",
    "plt.ylabel(\"Position (m)\")\n",
    "plt.grid(True)\n",
    "plt.show()\n"
   ]
  }
 ],
 "metadata": {
  "kernelspec": {
   "display_name": "Python 3 (ipykernel)",
   "language": "python",
   "name": "python3"
  },
  "language_info": {
   "codemirror_mode": {
    "name": "ipython",
    "version": 3
   },
   "file_extension": ".py",
   "mimetype": "text/x-python",
   "name": "python",
   "nbconvert_exporter": "python",
   "pygments_lexer": "ipython3",
   "version": "3.12.1"
  }
 },
 "nbformat": 4,
 "nbformat_minor": 5
}
