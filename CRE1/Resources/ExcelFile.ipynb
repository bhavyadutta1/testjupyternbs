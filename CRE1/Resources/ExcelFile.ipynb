{
 "cells": [
  {
   "cell_type": "code",
   "execution_count": 1,
   "id": "e4f494a6-042b-42f9-a8b8-ef2809b167f0",
   "metadata": {},
   "outputs": [
    {
     "data": {
      "text/html": [
       "<a href='[Example] BE16-CRE1 - Solved Examples Step, Pulse CSTR-50 (1).xlsx' target='_blank'>[Example] BE16-CRE1 - Solved Examples Step, Pulse CSTR-50 (1).xlsx</a><br>"
      ],
      "text/plain": [
       "/home/jovyan/CRE1/[Example] BE16-CRE1 - Solved Examples Step, Pulse CSTR-50 (1).xlsx"
      ]
     },
     "execution_count": 1,
     "metadata": {},
     "output_type": "execute_result"
    }
   ],
   "source": [
    "from IPython.display import FileLink\n",
    "\n",
    "excel_file_path = \"[Example] BE16-CRE1 - Solved Examples Step, Pulse CSTR-50 (1).xlsx\"\n",
    "\n",
    "display(FileLink(excel_file_path))\n"
   ]
  },
  {
   "cell_type": "code",
   "execution_count": null,
   "id": "bac56b65-573a-41da-8695-b69184b5fbe8",
   "metadata": {},
   "outputs": [],
   "source": []
  }
 ],
 "metadata": {
  "kernelspec": {
   "display_name": "Python 3 (ipykernel)",
   "language": "python",
   "name": "python3"
  },
  "language_info": {
   "codemirror_mode": {
    "name": "ipython",
    "version": 3
   },
   "file_extension": ".py",
   "mimetype": "text/x-python",
   "name": "python",
   "nbconvert_exporter": "python",
   "pygments_lexer": "ipython3",
   "version": "3.11.6"
  }
 },
 "nbformat": 4,
 "nbformat_minor": 5
}
