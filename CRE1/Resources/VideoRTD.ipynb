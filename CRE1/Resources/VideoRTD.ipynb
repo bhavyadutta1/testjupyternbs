{
 "cells": [
  {
   "cell_type": "code",
   "execution_count": 1,
   "id": "4e202b55-8ffd-4542-ab1a-6719560cfd04",
   "metadata": {},
   "outputs": [
    {
     "data": {
      "text/html": [
       "<video width='800' controls start='150'><source src='CRE1-RTD.mp4' type='video/mp4'></video>"
      ],
      "text/plain": [
       "<IPython.core.display.HTML object>"
      ]
     },
     "execution_count": 1,
     "metadata": {},
     "output_type": "execute_result"
    }
   ],
   "source": [
    "from IPython.display import HTML\n",
    "\n",
    "video_path2 = \"Resources/Videos/CRE1-RTD.mp4\"\n",
    "\n",
    "video_width = 600\n",
    "\n",
    "start_time_seconds = 2.5*60\n",
    "\n",
    "video2_html = f\"<video width='{video_width}' controls start='{150}'><source src='{video_path2}' type='video/mp4'></video>\"\n",
    "\n",
    "display(HTML(video2_html))\n"
   ]
  },
  {
   "cell_type": "code",
   "execution_count": null,
   "id": "1032f729-aa42-4de8-97f0-40b993c25c7a",
   "metadata": {},
   "outputs": [],
   "source": []
  }
 ],
 "metadata": {
  "kernelspec": {
   "display_name": "Python 3 (ipykernel)",
   "language": "python",
   "name": "python3"
  },
  "language_info": {
   "codemirror_mode": {
    "name": "ipython",
    "version": 3
   },
   "file_extension": ".py",
   "mimetype": "text/x-python",
   "name": "python",
   "nbconvert_exporter": "python",
   "pygments_lexer": "ipython3",
   "version": "3.11.6"
  }
 },
 "nbformat": 4,
 "nbformat_minor": 5
}
