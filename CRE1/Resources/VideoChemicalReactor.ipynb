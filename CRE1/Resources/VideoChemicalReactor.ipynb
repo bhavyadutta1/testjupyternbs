{
 "cells": [
  {
   "cell_type": "code",
   "execution_count": null,
   "id": "9aa51a80-21c4-46eb-9e46-19297082134d",
   "metadata": {},
   "outputs": [],
   "source": [
    "\n",
    "from IPython.display import HTML\n",
    "\n",
    "video_path = \"Resources/Videos/CRE1-The Chemical Reactor System.mp4\"\n",
    "\n",
    "video_width = 600\n",
    "\n",
    "video_html = f\"<video width='{video_width}' controls><source src='{video_path}' type='video/mp4'></video>\"\n",
    "\n",
    "display(HTML(video_html))\n"
   ]
  }
 ],
 "metadata": {
  "kernelspec": {
   "display_name": "Python 3 (ipykernel)",
   "language": "python",
   "name": "python3"
  },
  "language_info": {
   "codemirror_mode": {
    "name": "ipython",
    "version": 3
   },
   "file_extension": ".py",
   "mimetype": "text/x-python",
   "name": "python",
   "nbconvert_exporter": "python",
   "pygments_lexer": "ipython3",
   "version": "3.11.6"
  }
 },
 "nbformat": 4,
 "nbformat_minor": 5
}
