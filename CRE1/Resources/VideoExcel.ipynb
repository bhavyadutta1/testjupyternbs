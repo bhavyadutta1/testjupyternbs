{
 "cells": [
  {
   "cell_type": "code",
   "execution_count": null,
   "id": "31453d9c-3a4b-4fac-a79a-a44aa0b75f4e",
   "metadata": {},
   "outputs": [],
   "source": [
    "from IPython.display import YouTubeVideo\n",
    "\n",
    "# Create a YouTube video object with specified width\n",
    "videoP = YouTubeVideo(\"k1VUZEVuDJ8\", width=600)\n",
    "\n",
    "# Display the video\n",
    "display(videoP)"
   ]
  }
 ],
 "metadata": {
  "kernelspec": {
   "display_name": "Python 3 (ipykernel)",
   "language": "python",
   "name": "python3"
  },
  "language_info": {
   "codemirror_mode": {
    "name": "ipython",
    "version": 3
   },
   "file_extension": ".py",
   "mimetype": "text/x-python",
   "name": "python",
   "nbconvert_exporter": "python",
   "pygments_lexer": "ipython3",
   "version": "3.11.6"
  }
 },
 "nbformat": 4,
 "nbformat_minor": 5
}
