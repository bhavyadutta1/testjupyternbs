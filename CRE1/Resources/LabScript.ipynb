{
 "cells": [
  {
   "cell_type": "code",
   "execution_count": 1,
   "id": "bce8fc10-95f9-4099-b1cf-34971a5b138b",
   "metadata": {},
   "outputs": [
    {
     "data": {
      "text/html": [
       "\n",
       "        <iframe\n",
       "            width=\"75%\"\n",
       "            height=\"600\"\n",
       "            src=\"Resources/PDF files/scriptCRE1.pdf\"\n",
       "            frameborder=\"0\"\n",
       "            allowfullscreen\n",
       "            \n",
       "        ></iframe>\n",
       "        "
      ],
      "text/plain": [
       "<IPython.lib.display.IFrame at 0x7f282e6324d0>"
      ]
     },
     "metadata": {},
     "output_type": "display_data"
    }
   ],
   "source": [
    "from IPython.display import IFrame\n",
    "\n",
    "# Path to your PDF file\n",
    "pdf_path = \"Resources/PDF files/scriptCRE1.pdf\"\n",
    "\n",
    "# Embed the PDF as an object with adjusted width and height\n",
    "display(IFrame(src=pdf_path, width=\"75%\", height=\"600\"))"
   ]
  },
  {
   "cell_type": "code",
   "execution_count": null,
   "id": "c8444807-029b-43a0-9388-dd0f18fb6d1b",
   "metadata": {},
   "outputs": [],
   "source": []
  }
 ],
 "metadata": {
  "kernelspec": {
   "display_name": "Python 3 (ipykernel)",
   "language": "python",
   "name": "python3"
  },
  "language_info": {
   "codemirror_mode": {
    "name": "ipython",
    "version": 3
   },
   "file_extension": ".py",
   "mimetype": "text/x-python",
   "name": "python",
   "nbconvert_exporter": "python",
   "pygments_lexer": "ipython3",
   "version": "3.11.6"
  }
 },
 "nbformat": 4,
 "nbformat_minor": 5
}
