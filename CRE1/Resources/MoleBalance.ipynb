{
 "cells": [
  {
   "cell_type": "code",
   "execution_count": 2,
   "id": "e005ee57-5a59-4f14-b85e-be9fc1997d34",
   "metadata": {},
   "outputs": [
    {
     "data": {
      "text/html": [
       "<iframe src=\"Mole Balance-6-26.pdf\" width=\"100%\" height=\"600\"></iframe>"
      ],
      "text/plain": [
       "<IPython.core.display.HTML object>"
      ]
     },
     "metadata": {},
     "output_type": "display_data"
    }
   ],
   "source": [
    "from IPython.display import IFrame\n",
    "\n",
    "# Path to your PDF file\n",
    "pdf_path = \"Resources/PDF files/Mole Balance-6-26.pdf\"\n",
    "\n",
    "# Display the PDF with adjusted width and height\n",
    "display(IFrame(src=pdf_path, width=\"75%\", height=\"600\"))\n"
   ]
  },
  {
   "cell_type": "code",
   "execution_count": null,
   "id": "7e4f9edb-5679-49c6-8c6a-0559a3ee9390",
   "metadata": {},
   "outputs": [],
   "source": []
  }
 ],
 "metadata": {
  "kernelspec": {
   "display_name": "Python 3 (ipykernel)",
   "language": "python",
   "name": "python3"
  },
  "language_info": {
   "codemirror_mode": {
    "name": "ipython",
    "version": 3
   },
   "file_extension": ".py",
   "mimetype": "text/x-python",
   "name": "python",
   "nbconvert_exporter": "python",
   "pygments_lexer": "ipython3",
   "version": "3.11.6"
  }
 },
 "nbformat": 4,
 "nbformat_minor": 5
}
