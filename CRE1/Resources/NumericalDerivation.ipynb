{
 "cells": [
  {
   "cell_type": "code",
   "execution_count": 3,
   "id": "316a5691-e7f5-4778-97e2-5e49753d18ea",
   "metadata": {},
   "outputs": [
    {
     "data": {
      "text/html": [
       "\n",
       "        <iframe\n",
       "            width=\"640\"\n",
       "            height=\"360\"\n",
       "            src=\"https://www.youtube.com/embed/D2GvGqF5DAU?start=560\"\n",
       "            frameborder=\"0\"\n",
       "            allowfullscreen\n",
       "            \n",
       "        ></iframe>\n",
       "        "
      ],
      "text/plain": [
       "<IPython.lib.display.IFrame at 0x7fcfd4b4c650>"
      ]
     },
     "metadata": {},
     "output_type": "display_data"
    }
   ],
   "source": [
    "from IPython.display import display, IFrame\n",
    "\n",
    "# YouTube video ID (found in the video's URL after \"v=\")\n",
    "video_id = 'D2GvGqF5DAU'\n",
    "\n",
    "# Start time in seconds\n",
    "start_time = 560 # Change this to your desired start time\n",
    "\n",
    "# Embed the video from a specific start time\n",
    "display(IFrame(src=f\"https://www.youtube.com/embed/{video_id}?start={start_time}\", width=600, height=360))\n"
   ]
  },
  {
   "cell_type": "code",
   "execution_count": null,
   "id": "07187319-d116-429a-8788-4a021c5c52e9",
   "metadata": {},
   "outputs": [],
   "source": []
  },
  {
   "cell_type": "code",
   "execution_count": null,
   "id": "255a0cf3-c9a4-4a49-ba0f-eaa0a22be62f",
   "metadata": {},
   "outputs": [],
   "source": []
  }
 ],
 "metadata": {
  "kernelspec": {
   "display_name": "Python 3 (ipykernel)",
   "language": "python",
   "name": "python3"
  },
  "language_info": {
   "codemirror_mode": {
    "name": "ipython",
    "version": 3
   },
   "file_extension": ".py",
   "mimetype": "text/x-python",
   "name": "python",
   "nbconvert_exporter": "python",
   "pygments_lexer": "ipython3",
   "version": "3.11.6"
  }
 },
 "nbformat": 4,
 "nbformat_minor": 5
}
